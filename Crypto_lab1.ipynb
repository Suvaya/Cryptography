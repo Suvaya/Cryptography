{
  "nbformat": 4,
  "nbformat_minor": 0,
  "metadata": {
    "colab": {
      "provenance": [],
      "authorship_tag": "ABX9TyMUBWsXv497IBm16SVhGxsW",
      "include_colab_link": true
    },
    "kernelspec": {
      "name": "python3",
      "display_name": "Python 3"
    },
    "language_info": {
      "name": "python"
    }
  },
  "cells": [
    {
      "cell_type": "markdown",
      "metadata": {
        "id": "view-in-github",
        "colab_type": "text"
      },
      "source": [
        "<a href=\"https://colab.research.google.com/github/Suvaya/Cryptography/blob/main/Crypto_lab1.ipynb\" target=\"_parent\"><img src=\"https://colab.research.google.com/assets/colab-badge.svg\" alt=\"Open In Colab\"/></a>"
      ]
    },
    {
      "cell_type": "markdown",
      "source": [
        "#Hill Cipher"
      ],
      "metadata": {
        "id": "efduoTpbbGu6"
      }
    },
    {
      "cell_type": "code",
      "execution_count": null,
      "metadata": {
        "colab": {
          "base_uri": "https://localhost:8080/"
        },
        "id": "m94hHEXYalR-",
        "outputId": "3921a1ce-3699-4f9b-984a-11268a7e55d0"
      },
      "outputs": [
        {
          "output_type": "stream",
          "name": "stdout",
          "text": [
            "[[18 20]\n",
            " [21  0]\n",
            " [24  0]]\n",
            "Inverse Matrix (mod 26):\n",
            " [[ 1 25]\n",
            " [22 13]]\n",
            "[[ 6 10]\n",
            " [13 11]\n",
            " [ 0 20]]\n",
            "[[18 20]\n",
            " [21  0]\n",
            " [24  0]]\n",
            "[['g', 'k'], ['n', 'l'], ['a', 'u']]\n",
            "[['s', 'u'], ['v', 'a'], ['y', 'a']]\n"
          ]
        }
      ],
      "source": [
        "import numpy as np\n",
        "\n",
        "def create_alphabet_matrix(word):\n",
        "    alphabet = 'abcdefghijklmnopqrstuvwxyz'\n",
        "    matrix = []\n",
        "\n",
        "    for letter in word:\n",
        "        if letter in alphabet:\n",
        "            value = ord(letter) - ord('a')\n",
        "            matrix.append(value)\n",
        "\n",
        "    # Pad with zeros if needed to have a multiple of 3 elements\n",
        "    while len(matrix) % 3 != 0:\n",
        "        matrix.append(0)\n",
        "\n",
        "    # Reshape the matrix to be 3x2 using column-major order\n",
        "    num_rows = len(matrix) // 3\n",
        "    matrix = [matrix[i:i+num_rows] for i in range(0, len(matrix), num_rows)]\n",
        "\n",
        "    return matrix\n",
        "#converting my name into a matrix\n",
        "word = 'suvaya'\n",
        "matrix = create_alphabet_matrix(word)\n",
        "# Convert the list of lists to a NumPy array\n",
        "numpy_array = np.array(matrix)\n",
        "\n",
        "print(numpy_array)\n",
        "\n",
        "#conver matrix to alphabets\n",
        "def matrix_to_alphabets(matrix):\n",
        "    alphabet = 'abcdefghijklmnopqrstuvwxyz'\n",
        "    rows, cols = matrix.shape\n",
        "    result = []\n",
        "\n",
        "    for i in range(rows):\n",
        "        row = []\n",
        "        for j in range(cols):\n",
        "            letter = alphabet[matrix[i, j]]\n",
        "            row.append(letter)\n",
        "        result.append(row)\n",
        "\n",
        "    return result\n",
        "\n",
        "#Inverse of matrix driver function\n",
        "def inverse_2x2_mod(matrix):\n",
        "    a, b = matrix[0, 0], matrix[0, 1]\n",
        "    c, d = matrix[1, 0], matrix[1, 1]\n",
        "\n",
        "    det = (a * d - b * c) % 26\n",
        "\n",
        "    for i in range(1, 26):\n",
        "        if (det * i) % 26 == 1:\n",
        "            det_inv = i\n",
        "            break\n",
        "\n",
        "    inv_matrix = np.array([[d, -b], [-c, a]]) * det_inv\n",
        "    inv_matrix = inv_matrix % 26\n",
        "\n",
        "    return inv_matrix\n",
        "\n",
        "#Inverse matrix\n",
        "matro = np.array([[13, 3], [12, 3]])\n",
        "inv_matrix = inverse_2x2_mod(matro)\n",
        "print(\"Inverse Matrix (mod 26):\\n\", inv_matrix)\n",
        "\n",
        "def multiply_matrices(matrix1, matrix2):\n",
        "    result = np.dot(matrix1, matrix2) % 26\n",
        "    return result\n",
        "\n",
        "encrypt_matrix = multiply_matrices(numpy_array, matro)\n",
        "print(encrypt_matrix)\n",
        "\n",
        "decrypt_matrix = multiply_matrices(encrypt_matrix, inverse_2x2_mod(matro))\n",
        "print(decrypt_matrix)\n",
        "\n",
        "encrypted_texts = matrix_to_alphabets(encrypt_matrix)\n",
        "decrypted_texts = matrix_to_alphabets(decrypt_matrix)\n",
        "\n",
        "print(encrypted_texts)\n",
        "print(decrypted_texts)"
      ]
    },
    {
      "cell_type": "markdown",
      "source": [
        "#Caesar Cipher"
      ],
      "metadata": {
        "id": "TJgYsEHfbKou"
      }
    },
    {
      "cell_type": "code",
      "source": [
        "def ceaserCyEn(plaintext, key):\n",
        "    encrypt=\"\"\n",
        "    for char in plaintext:\n",
        "        if char.isalpha():\n",
        "            base=ord('A') if char.isupper() else ord('a')\n",
        "\n",
        "            #find the position of each character\n",
        "            enc_char = chr((ord(char)-base+key)%26+base)\n",
        "            encrypt += enc_char\n",
        "        else:\n",
        "            encrypt+=char\n",
        "    return encrypt\n",
        "\n",
        "def ceaserCyDe(cipherText, key):\n",
        "    return ceaserCyEn(cipherText, -key)\n",
        "\n",
        "no = \"Suvaya\"\n",
        "key = 5\n",
        "\n",
        "cipherText = ceaserCyEn(no, key)\n",
        "print(\"The ciphertext is: \" + cipherText)\n",
        "\n",
        "print(\"The deciphered text is: \" + ceaserCyDe(cipherText, key))"
      ],
      "metadata": {
        "colab": {
          "base_uri": "https://localhost:8080/"
        },
        "id": "pr7RZC9mbKWr",
        "outputId": "311a6fa9-fead-4dfb-bae2-bf51a235cdd6"
      },
      "execution_count": null,
      "outputs": [
        {
          "output_type": "stream",
          "name": "stdout",
          "text": [
            "The ciphertext is: Xzafdf\n",
            "The deciphered text is: Suvaya\n"
          ]
        }
      ]
    },
    {
      "cell_type": "markdown",
      "source": [
        "#PlayFair"
      ],
      "metadata": {
        "id": "zReb841qmIiC"
      }
    },
    {
      "cell_type": "code",
      "source": [
        "extra_letter_pos = []\n",
        "\n",
        "\n",
        "def generate_playfair_matrix(key):\n",
        "    key = key.replace(\"i\", \"j\")  # Replace i with j\n",
        "    key += \"abcdefghijklmnopqrstuvwxyz\"\n",
        "\n",
        "    matrix = [[0] * 5 for _ in range(5)]\n",
        "    used_letters = set()\n",
        "\n",
        "    row = 0\n",
        "    col = 0\n",
        "\n",
        "    for letter in key:\n",
        "        if letter not in used_letters:\n",
        "            matrix[row][col] = letter\n",
        "            used_letters.add(letter)\n",
        "            col += 1\n",
        "            if col == 5:\n",
        "                col = 0\n",
        "                row += 1\n",
        "                if row == 5:\n",
        "                    break\n",
        "\n",
        "    return matrix\n",
        "\n",
        "\n",
        "def find_letter(matrix, letter):\n",
        "    for i in range(5):\n",
        "        for j in range(5):\n",
        "            if matrix[i][j] == letter:\n",
        "                return i, j\n",
        "\n",
        "\n",
        "def playfair_encrypt(plaintext, key):\n",
        "    matrix = generate_playfair_matrix(key)\n",
        "    plaintext = plaintext.replace(\"J\", \"I\")\n",
        "    print(matrix)\n",
        "\n",
        "    # Add filler 'X' for repeated letters and make pairs\n",
        "    pairs = []\n",
        "    i = 0\n",
        "    while i < len(plaintext):\n",
        "        if i == len(plaintext) - 1 or plaintext[i] == plaintext[i + 1]:\n",
        "            pairs.append(plaintext[i] + \"X\")\n",
        "            i += 1\n",
        "            extra_letter_pos.append(i)\n",
        "        else:\n",
        "            pairs.append(plaintext[i] + plaintext[i + 1])\n",
        "            i += 2\n",
        "\n",
        "    ciphertext = \"\"\n",
        "\n",
        "    for pair in pairs:\n",
        "        row1, col1 = find_letter(matrix, pair[0])\n",
        "        row2, col2 = find_letter(matrix, pair[1])\n",
        "\n",
        "        if row1 == row2:\n",
        "            ciphertext += matrix[row1][(col1 + 1) % 5]\n",
        "            ciphertext += matrix[row2][(col2 + 1) % 5]\n",
        "        elif col1 == col2:\n",
        "            ciphertext += matrix[(row1 + 1) % 5][col1]\n",
        "            ciphertext += matrix[(row2 + 1) % 5][col2]\n",
        "        else:\n",
        "            ciphertext += matrix[row1][col2]\n",
        "            ciphertext += matrix[row2][col1]\n",
        "\n",
        "    return ciphertext\n",
        "\n",
        "\n",
        "def playfair_decrypt(ciphertext, key):\n",
        "    matrix = generate_playfair_matrix(key)\n",
        "    ciphertext = ciphertext.replace(\" \", \"\").lower()\n",
        "\n",
        "    plaintext = \"\"\n",
        "\n",
        "    for i in range(0, len(ciphertext), 2):\n",
        "        row1, col1 = find_letter(matrix, ciphertext[i])\n",
        "        row2, col2 = find_letter(matrix, ciphertext[i + 1])\n",
        "\n",
        "        if row1 == row2:\n",
        "            plaintext += matrix[row1][(col1 - 1) % 5]\n",
        "            plaintext += matrix[row2][(col2 - 1) % 5]\n",
        "        elif col1 == col2:\n",
        "            plaintext += matrix[(row1 - 1) % 5][col1]\n",
        "            plaintext += matrix[(row2 - 1) % 5][col2]\n",
        "        else:\n",
        "            plaintext += matrix[row1][col2]\n",
        "            plaintext += matrix[row2][col1]\n",
        "\n",
        "    return plaintext\n",
        "\n",
        "\n",
        "# Main program\n",
        "plaintext = input(\"Enter the plain text: \").replace(\" \", \"\").lower()\n",
        "key = input(\"Enter the key: \").replace(\" \", \"\").lower()\n",
        "\n",
        "encrypted_name = playfair_encrypt(plaintext, key)\n",
        "print(\"Encrypted text:\", encrypted_name)\n",
        "\n",
        "decrypted_name = playfair_decrypt(encrypted_name, key)\n",
        "print(\"Decrypted text: \", end=\"\")\n",
        "\n",
        "for char in decrypted_name:\n",
        "    if decrypted_name.index(char) in extra_letter_pos:\n",
        "        continue\n",
        "    print(char, end=\"\")"
      ],
      "metadata": {
        "colab": {
          "base_uri": "https://localhost:8080/"
        },
        "id": "WO90FSqgmK8s",
        "outputId": "b4b26504-4412-4699-84c4-bb21cbb59d2c"
      },
      "execution_count": null,
      "outputs": [
        {
          "output_type": "stream",
          "name": "stdout",
          "text": [
            "Enter the plain text: suvaya\n",
            "Enter the key: help\n",
            "[['h', 'e', 'l', 'p', 'a'], ['b', 'c', 'd', 'f', 'g'], ['i', 'j', 'k', 'm', 'n'], ['o', 'q', 'r', 's', 't'], ['u', 'v', 'w', 'x', 'y']]\n",
            "Encrypted text: oxyeag\n",
            "Decrypted text: suvaya"
          ]
        }
      ]
    },
    {
      "cell_type": "markdown",
      "source": [
        "#Railfence Cipher"
      ],
      "metadata": {
        "id": "fRlYnYQRnCCd"
      }
    },
    {
      "cell_type": "code",
      "source": [
        "def encrypt_rail_fence(message, rails):\n",
        "    rail_matrix = [['\\n' for _ in range(len(message))] for _ in range(rails)]\n",
        "    direction = -1  # 1 for moving down, -1 for moving up\n",
        "    row, col = 0, 0\n",
        "\n",
        "    for char in message:\n",
        "        if row == 0 or row == rails - 1:\n",
        "            direction *= -1\n",
        "        rail_matrix[row][col] = char\n",
        "        col += 1\n",
        "        row += direction\n",
        "\n",
        "    encrypted_message = ''.join([rail_matrix[i][j] for i in range(rails) for j in range(len(message)) if rail_matrix[i][j] != '\\n'])\n",
        "    return encrypted_message\n",
        "\n",
        "\n",
        "def decrypt_rail_fence(encrypted_message, rails):\n",
        "    rail_matrix = [['\\n' for _ in range(len(encrypted_message))] for _ in range(rails)]\n",
        "    direction = -1\n",
        "    row, col = 0, 0\n",
        "\n",
        "    for _ in encrypted_message:\n",
        "        if row == 0 or row == rails - 1:\n",
        "            direction *= -1\n",
        "        rail_matrix[row][col] = '*'\n",
        "        col += 1\n",
        "        row += direction\n",
        "\n",
        "    index = 0\n",
        "    for i in range(rails):\n",
        "        for j in range(len(encrypted_message)):\n",
        "            if rail_matrix[i][j] == '*' and index < len(encrypted_message):\n",
        "                rail_matrix[i][j] = encrypted_message[index]\n",
        "                index += 1\n",
        "\n",
        "    direction = -1\n",
        "    row, col = 0, 0\n",
        "    decrypted_message = ''\n",
        "\n",
        "    for _ in encrypted_message:\n",
        "        if row == 0 or row == rails - 1:\n",
        "            direction *= -1\n",
        "        if rail_matrix[row][col] != '\\n':\n",
        "            decrypted_message += rail_matrix[row][col]\n",
        "        col += 1\n",
        "        row += direction\n",
        "\n",
        "    return decrypted_message\n",
        "\n",
        "\n",
        "message = \"suvaya\"\n",
        "rails = 3\n",
        "\n",
        "encrypted = encrypt_rail_fence(message, rails)\n",
        "print(\"Encrypted:\", encrypted)\n",
        "\n",
        "decrypted = decrypt_rail_fence(encrypted, rails)\n",
        "print(\"Decrypted:\", decrypted)"
      ],
      "metadata": {
        "colab": {
          "base_uri": "https://localhost:8080/"
        },
        "id": "PEnhwELHmNGh",
        "outputId": "97a865b1-8995-4d94-a5eb-74e10c8d15e5"
      },
      "execution_count": null,
      "outputs": [
        {
          "output_type": "stream",
          "name": "stdout",
          "text": [
            "Encrypted: syuaav\n",
            "Decrypted: suvaya\n"
          ]
        }
      ]
    },
    {
      "cell_type": "markdown",
      "source": [
        "#Vignere Cipher"
      ],
      "metadata": {
        "id": "ScN1X5FKnrmn"
      }
    },
    {
      "cell_type": "code",
      "source": [
        "def generate_vigenere_table():\n",
        "    alphabet = \"abcdefghijklmnopqrstuvwxy\"\n",
        "    vigenere_table = {}\n",
        "\n",
        "    for i, char in enumerate(alphabet):\n",
        "        shifted_alphabet = alphabet[i:] + alphabet[:i]\n",
        "        vigenere_table[char] = shifted_alphabet\n",
        "\n",
        "    return vigenere_table\n",
        "\n",
        "def encrypt_vigenere(message, key):\n",
        "    vigenere_table = generate_vigenere_table()\n",
        "    encrypted_message = \"\"\n",
        "\n",
        "    message = message.lower()\n",
        "    key = key.lower()\n",
        "    key_index = 0\n",
        "\n",
        "    for char in message:\n",
        "        if char.isalpha():\n",
        "            key_char = key[key_index % len(key)]\n",
        "            encrypted_char = vigenere_table[key_char][ord(char) - ord('a')]\n",
        "            encrypted_message += encrypted_char\n",
        "            key_index += 1\n",
        "        else:\n",
        "            encrypted_message += char\n",
        "\n",
        "    return encrypted_message\n",
        "\n",
        "def decrypt_vigenere(encrypted_message, key):\n",
        "    vigenere_table = generate_vigenere_table()\n",
        "    decrypted_message = \"\"\n",
        "\n",
        "    encrypted_message = encrypted_message.lower()\n",
        "    key = key.lower()\n",
        "    key_index = 0\n",
        "\n",
        "    for char in encrypted_message:\n",
        "        if char.isalpha():\n",
        "            key_char = key[key_index % len(key)]\n",
        "            decrypted_char = chr(vigenere_table[key_char].index(char) + ord('a'))\n",
        "            decrypted_message += decrypted_char\n",
        "            key_index += 1\n",
        "        else:\n",
        "            decrypted_message += char\n",
        "\n",
        "    return decrypted_message\n",
        "\n",
        "message = \"suvayagopalshrestha\"\n",
        "key = \"ghorlay\"\n",
        "\n",
        "encrypted = encrypt_vigenere(message, key)\n",
        "print(\"Encrypted:\", encrypted)\n",
        "\n",
        "decrypted = decrypt_vigenere(encrypted, key)\n",
        "print(\"Decrypted:\", decrypted)"
      ],
      "metadata": {
        "colab": {
          "base_uri": "https://localhost:8080/"
        },
        "id": "hn2w-S_6mK1P",
        "outputId": "05636500-5541-4a60-8308-f56fac7f421d"
      },
      "execution_count": null,
      "outputs": [
        {
          "output_type": "stream",
          "name": "stdout",
          "text": [
            "Encrypted: yckrkafuwodehqkaiyl\n",
            "Decrypted: suvayagopalshrestha\n"
          ]
        }
      ]
    },
    {
      "cell_type": "code",
      "source": [],
      "metadata": {
        "colab": {
          "base_uri": "https://localhost:8080/"
        },
        "id": "pu7hwpiFnI6s",
        "outputId": "8a7db0fa-13e5-4abf-e77e-269c9059809b"
      },
      "execution_count": null,
      "outputs": [
        {
          "output_type": "stream",
          "name": "stdout",
          "text": [
            "Encrypted: aaggffhafccffbh\n",
            "Decrypted: dadcafeeachbabe\n"
          ]
        }
      ]
    }
  ]
}