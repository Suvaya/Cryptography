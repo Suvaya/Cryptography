{
  "nbformat": 4,
  "nbformat_minor": 0,
  "metadata": {
    "colab": {
      "provenance": [],
      "authorship_tag": "ABX9TyOWWizag6ycMMGvqu0P/rrl",
      "include_colab_link": true
    },
    "kernelspec": {
      "name": "python3",
      "display_name": "Python 3"
    },
    "language_info": {
      "name": "python"
    }
  },
  "cells": [
    {
      "cell_type": "markdown",
      "metadata": {
        "id": "view-in-github",
        "colab_type": "text"
      },
      "source": [
        "<a href=\"https://colab.research.google.com/github/Suvaya/Cryptography/blob/main/Lab3.ipynb\" target=\"_parent\"><img src=\"https://colab.research.google.com/assets/colab-badge.svg\" alt=\"Open In Colab\"/></a>"
      ]
    },
    {
      "cell_type": "markdown",
      "source": [
        "#Miller Rabin Algorithm"
      ],
      "metadata": {
        "id": "D5_wFVPSnGzS"
      }
    },
    {
      "cell_type": "code",
      "execution_count": null,
      "metadata": {
        "colab": {
          "base_uri": "https://localhost:8080/",
          "height": 87
        },
        "id": "TmaRLDaMnDum",
        "outputId": "bd67daa1-0a93-4631-bc4e-05beeb1e6360"
      },
      "outputs": [
        {
          "output_type": "stream",
          "name": "stdout",
          "text": [
            "Enter a number: 561\n",
            "For n = 561, m = 35, and k = 4\n",
            "263\n"
          ]
        },
        {
          "output_type": "execute_result",
          "data": {
            "text/plain": [
              "'a composite'"
            ],
            "application/vnd.google.colaboratory.intrinsic+json": {
              "type": "string"
            }
          },
          "metadata": {},
          "execution_count": 49
        }
      ],
      "source": [
        "n = int(input(\"Enter a number: \"))\n",
        "def find_m_and_k(n):\n",
        "    m = n - 1\n",
        "    k = 0\n",
        "\n",
        "    while m % 2 == 0:\n",
        "        m //= 2\n",
        "        k += 1\n",
        "\n",
        "    return m, k\n",
        "\n",
        "# Input the value of n\n",
        "# n = int(input(\"Enter a value for n: \"))\n",
        "\n",
        "m, k = find_m_and_k(n)\n",
        "\n",
        "print(f\"For n = {n}, m = {m}, and k = {k}\")\n",
        "\n",
        "# t = a^m mod n we are taking a == 2\n",
        "t = (2**m)%n\n",
        "print(t)\n",
        "\n",
        "def test(t,m,k):\n",
        "  if t == +1 or t == n-1:\n",
        "    return \"A prime\"\n",
        "  else:\n",
        "    for i in range(0,k-1):\n",
        "      t = t**2%n\n",
        "      if t == +1:\n",
        "        return \"a composite\"\n",
        "      elif t == n - 1:\n",
        "        return \"a prime\"\n",
        "    return \"a composite\"\n",
        "\n",
        "test(t,m,k)"
      ]
    },
    {
      "cell_type": "markdown",
      "source": [
        "#Euler's Totient Function"
      ],
      "metadata": {
        "id": "d4YM3JePnR60"
      }
    },
    {
      "cell_type": "code",
      "source": [
        "from math import gcd\n",
        "m = int(input(\"Enter the number m: \"))\n",
        "\n",
        "list = []\n",
        "\n",
        "for i in range(0,m):\n",
        "  list.append(i)\n",
        "\n",
        "phi_m = 0\n",
        "\n",
        "for i in list:\n",
        "  gcd(i,m)\n",
        "  if gcd(i,m) == 1:\n",
        "    phi_m = phi_m + 1\n",
        "\n",
        "print(phi_m)"
      ],
      "metadata": {
        "colab": {
          "base_uri": "https://localhost:8080/"
        },
        "id": "s5oomicSnWB1",
        "outputId": "7ca56404-ee4b-483d-870b-cddccef7f033"
      },
      "execution_count": null,
      "outputs": [
        {
          "output_type": "stream",
          "name": "stdout",
          "text": [
            "Enter the number m: 101\n",
            "100\n"
          ]
        }
      ]
    },
    {
      "cell_type": "markdown",
      "source": [
        "#Find primitive roots"
      ],
      "metadata": {
        "id": "r8wlsWGMnWff"
      }
    },
    {
      "cell_type": "code",
      "source": [
        "mod = int(input(\"Enter the modulo number: \"))\n",
        "list = []\n",
        "test_list = []\n",
        "for i in range(1,mod):\n",
        "  list.append(i)\n",
        "\n",
        "a = int(input(\"Enter number to test: \"))\n",
        "\n",
        "check = True\n",
        "\n",
        "for i in list:\n",
        "  t = (a**i)%mod\n",
        "  if t in test_list:\n",
        "    check = False\n",
        "    break\n",
        "  else:\n",
        "    test_list.append(t)\n",
        "    check = True\n",
        "  print(t)\n",
        "if check == False:\n",
        "  print(f\"{a} is not a primitive rootof {mod}.\")\n",
        "else:\n",
        "  print(f\"{a} is a primitive root of {mod}.\")"
      ],
      "metadata": {
        "colab": {
          "base_uri": "https://localhost:8080/"
        },
        "id": "Q6RJt0hBnZfK",
        "outputId": "5f7deaaa-6fc6-456d-906e-2f8e2291357a"
      },
      "execution_count": null,
      "outputs": [
        {
          "output_type": "stream",
          "name": "stdout",
          "text": [
            "Enter the modulo number: 7\n",
            "Enter number to test: 5\n",
            "5\n",
            "4\n",
            "6\n",
            "2\n",
            "3\n",
            "1\n",
            "5 is a primitive root of 7.\n"
          ]
        }
      ]
    },
    {
      "cell_type": "markdown",
      "source": [
        "#Diffie Hallman Key Exchange Algorithm"
      ],
      "metadata": {
        "id": "Q4X5E1iAnZ_r"
      }
    },
    {
      "cell_type": "code",
      "source": [
        "import random\n",
        "\n",
        "# Shared prime and base (publicly known)\n",
        "prime = 353\n",
        "alpha = 3\n",
        "\n",
        "# Alice's private key\n",
        "a_private = random.randint(1, 10)\n",
        "a_public = (alpha ** a_private) % prime\n",
        "\n",
        "b_private = random.randint(1, 10)\n",
        "b_public = (alpha ** b_private) % prime\n",
        "\n",
        "# Exchange public keys\n",
        "shared_secret_Alice = (b_public ** a_private) % prime\n",
        "shared_secret_Bob = (a_public ** b_private) % prime\n",
        "\n",
        "# Both Alice and Bob should now have the same shared secret\n",
        "print(\"Alice's private key:\", a_private)\n",
        "print(\"Alice's public key:\", a_public)\n",
        "print(\"Bob's private key:\", b_private)\n",
        "print(\"Bob's public key:\", b_public)\n",
        "print(\"Shared secret for Alice:\", shared_secret_Alice)\n",
        "print(\"Shared secret for Bob:\", shared_secret_Bob)\n"
      ],
      "metadata": {
        "colab": {
          "base_uri": "https://localhost:8080/"
        },
        "id": "iSq43GDeneaL",
        "outputId": "601af457-7b28-41bd-d393-17a85598d279"
      },
      "execution_count": null,
      "outputs": [
        {
          "output_type": "stream",
          "name": "stdout",
          "text": [
            "Alice's private key: 8\n",
            "Alice's public key: 207\n",
            "Bob's private key: 8\n",
            "Bob's public key: 207\n",
            "Shared secret for Alice: 185\n",
            "Shared secret for Bob: 185\n"
          ]
        }
      ]
    },
    {
      "cell_type": "markdown",
      "source": [
        "#Implementation of RSA"
      ],
      "metadata": {
        "id": "OlHT7KArniFK"
      }
    },
    {
      "cell_type": "code",
      "source": [
        "import random\n",
        "\n",
        "# Function to check if a number is prime\n",
        "def is_prime(n):\n",
        "    if n <= 1:\n",
        "        return False\n",
        "    elif n <= 3:\n",
        "        return True\n",
        "    elif n % 2 == 0 or n % 3 == 0:\n",
        "        return False\n",
        "    i = 5\n",
        "    while i * i <= n:\n",
        "        if n % i == 0 or n % (i + 2) == 0:\n",
        "            return False\n",
        "        i += 6\n",
        "    return True\n",
        "\n",
        "# Function to calculate the greatest common divisor (GCD)\n",
        "def gcd(a, b):\n",
        "    while b:\n",
        "        a, b = b, a % b\n",
        "    return a\n",
        "\n",
        "# Function to find the modular multiplicative inverse\n",
        "def mod_inverse(a, m):\n",
        "    m0, x0, x1 = m, 0, 1\n",
        "    while a > 1:\n",
        "        q = a // m\n",
        "        m, a = a % m, m\n",
        "        x0, x1 = x1 - q * x0, x0\n",
        "    return x1 + m0 if x1 < 0 else x1\n",
        "\n",
        "# Generate large prime numbers p and q\n",
        "while True:\n",
        "    p = random.randint(100, 500)\n",
        "    if is_prime(p):\n",
        "        break\n",
        "\n",
        "while True:\n",
        "    q = random.randint(100, 500)\n",
        "    if is_prime(q) and q != p:\n",
        "        break\n",
        "\n",
        "# Calculate n and totient (phi)\n",
        "n = p * q\n",
        "phi = (p - 1) * (q - 1)\n",
        "\n",
        "# Choose a public key exponent (e)\n",
        "e = random.randint(1, phi)\n",
        "while gcd(e, phi) != 1:\n",
        "    e = random.randint(1, phi)\n",
        "\n",
        "# Calculate the private key exponent (d)\n",
        "d = mod_inverse(e, phi)\n",
        "\n",
        "\n",
        "def encrypt(plain, public):\n",
        "    n, e = public\n",
        "    cipher_texts = [(ord(char) ** e) % n for char in plain] #Each characters are taken\n",
        "\n",
        "# Using a loop to print the elements on a single line\n",
        "    print(\"Encrypted text: \")\n",
        "    for item in cipher_texts:\n",
        "      print(item, end=\"\")\n",
        "    print(\"\\n\")\n",
        "    return cipher_texts\n",
        "\n",
        "# Decryption function\n",
        "def decrypt(cipher, private):\n",
        "    n, d = private\n",
        "    plain = ''.join([chr((char ** d) % n) for char in cipher])\n",
        "    return plain\n",
        "\n",
        "# Test the RSA encryption and decryption\n",
        "message = \"Hello\"\n",
        "print(\"Original message:\", message)\n",
        "\n",
        "public_key = (n, e)\n",
        "private_key = (n, d)\n",
        "\n",
        "encrypted_message = encrypt(message, public_key)\n",
        "\n",
        "decrypted_message = decrypt(encrypted_message, private_key)\n",
        "print(\"Decrypted message: \\n\", decrypted_message)"
      ],
      "metadata": {
        "id": "8DRNnPMQnkhI",
        "colab": {
          "base_uri": "https://localhost:8080/"
        },
        "outputId": "080115ba-53c3-4f63-80eb-d8469b17a168"
      },
      "execution_count": null,
      "outputs": [
        {
          "output_type": "stream",
          "name": "stdout",
          "text": [
            "Original message: Hello\n",
            "Encrypted text: \n",
            "6699959746423642310298\n",
            "\n",
            "Decrypted message: \n",
            " Hello\n"
          ]
        }
      ]
    },
    {
      "cell_type": "markdown",
      "source": [
        "#Elagmal Cryptographic System"
      ],
      "metadata": {
        "id": "Kj0LODt0nlLC"
      }
    },
    {
      "cell_type": "code",
      "source": [
        "# Python program to illustrate ElGamal encryption\n",
        "\n",
        "# ===============Source: GeeksForGeeks================\n",
        "\n",
        "\n",
        "\n",
        "import random\n",
        "from math import pow\n",
        "\n",
        "a = random.randint(2, 10)\n",
        "\n",
        "def gcd(a, b):\n",
        "\tif a < b:\n",
        "\t\treturn gcd(b, a)\n",
        "\telif a % b == 0:\n",
        "\t\treturn b;\n",
        "\telse:\n",
        "\t\treturn gcd(b, a % b)\n",
        "\n",
        "# Generating large random numbers\n",
        "def gen_key(q):\n",
        "\n",
        "\tkey = random.randint(pow(10, 20), q)\n",
        "\twhile gcd(q, key) != 1:\n",
        "\t\tkey = random.randint(pow(10, 20), q)\n",
        "\n",
        "\treturn key\n",
        "\n",
        "# Modular exponentiation\n",
        "def power(a, b, c):\n",
        "\tx = 1\n",
        "\ty = a\n",
        "\n",
        "\twhile b > 0:\n",
        "\t\tif b % 2 != 0:\n",
        "\t\t\tx = (x * y) % c;\n",
        "\t\ty = (y * y) % c\n",
        "\t\tb = int(b / 2)\n",
        "\n",
        "\treturn x % c\n",
        "\n",
        "# Asymmetric encryption\n",
        "def encrypt(msg, q, h, g):\n",
        "\n",
        "\ten_msg = []\n",
        "\n",
        "\tk = gen_key(q)# Private key for sender\n",
        "\ts = power(h, k, q)\n",
        "\tp = power(g, k, q)\n",
        "\n",
        "\tfor i in range(0, len(msg)):\n",
        "\t\ten_msg.append(msg[i])\n",
        "\n",
        "\tprint(\"g^k used : \", p)\n",
        "\tprint(\"g^ak used : \", s)\n",
        "\tfor i in range(0, len(en_msg)):\n",
        "\t\ten_msg[i] = s * ord(en_msg[i])\n",
        "\n",
        "\treturn en_msg, p\n",
        "\n",
        "def decrypt(en_msg, p, key, q):\n",
        "\n",
        "\tdr_msg = []\n",
        "\th = power(p, key, q)\n",
        "\tfor i in range(0, len(en_msg)):\n",
        "\t\tdr_msg.append(chr(int(en_msg[i]/h)))\n",
        "\n",
        "\treturn dr_msg\n",
        "\n",
        "# Driver code\n",
        "def main():\n",
        "\n",
        "\tmsg = 'encryption'\n",
        "\tprint(\"Original Message :\", msg)\n",
        "\n",
        "\tq = random.randint(pow(10, 20), pow(10, 50))\n",
        "\tg = random.randint(2, q)\n",
        "\n",
        "\tkey = gen_key(q)# Private key for receiver\n",
        "\th = power(g, key, q)\n",
        "\tprint(\"g used : \", g)\n",
        "\tprint(\"g^a used : \", h)\n",
        "\n",
        "\ten_msg, p = encrypt(msg, q, h, g)\n",
        "\tdr_msg = decrypt(en_msg, p, key, q)\n",
        "\tdmsg = ''.join(dr_msg)\n",
        "\tprint(\"Decrypted Message :\", dmsg);\n",
        "\n",
        "\n",
        "if __name__ == '__main__':\n",
        "\tmain()\n"
      ],
      "metadata": {
        "id": "V6siECaenoCd",
        "colab": {
          "base_uri": "https://localhost:8080/"
        },
        "outputId": "6a5dc249-ad40-4745-b4b9-454f385c871a"
      },
      "execution_count": null,
      "outputs": [
        {
          "output_type": "stream",
          "name": "stdout",
          "text": [
            "Original Message : encryption\n",
            "g used :  27802289814953738366888229748232831414007060014117\n",
            "g^a used :  7518924828851872390662299802820000840910287414781\n",
            "g^k used :  12301462537354360368283819447331173073610746476037\n",
            "g^ak used :  24408271857989775908095622453178780397024583503919\n",
            "Decrypted Message : encryption\n"
          ]
        }
      ]
    }
  ]
}