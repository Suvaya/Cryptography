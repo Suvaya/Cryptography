{
  "nbformat": 4,
  "nbformat_minor": 0,
  "metadata": {
    "colab": {
      "provenance": [],
      "authorship_tag": "ABX9TyMwoERDVfI7epdgRYDiUs92",
      "include_colab_link": true
    },
    "kernelspec": {
      "name": "python3",
      "display_name": "Python 3"
    },
    "language_info": {
      "name": "python"
    }
  },
  "cells": [
    {
      "cell_type": "markdown",
      "metadata": {
        "id": "view-in-github",
        "colab_type": "text"
      },
      "source": [
        "<a href=\"https://colab.research.google.com/github/Suvaya/Cryptography/blob/main/CryptoLab2.ipynb\" target=\"_parent\"><img src=\"https://colab.research.google.com/assets/colab-badge.svg\" alt=\"Open In Colab\"/></a>"
      ]
    },
    {
      "cell_type": "markdown",
      "source": [
        "#Initial and Final Permutation Box demonstration"
      ],
      "metadata": {
        "id": "Fc-dlYnDvNXR"
      }
    },
    {
      "cell_type": "code",
      "execution_count": null,
      "metadata": {
        "colab": {
          "base_uri": "https://localhost:8080/"
        },
        "id": "D5rD3vMjtLMc",
        "outputId": "abebab3d-c9bf-4655-edad-a20a60758cf0"
      },
      "outputs": [
        {
          "output_type": "stream",
          "name": "stdout",
          "text": [
            "Permuted Bits after Initial Permutation: 1000011110101001011111110101010100010101111100100110111000101100\n",
            "Encrypted Output after Final Permutation: 1101010101101100110011110001111010100101001111100010110101110000\n"
          ]
        }
      ],
      "source": [
        "def permute(input_bits, permutation_box):\n",
        "    return ''.join(input_bits[i - 1] for i in permutation_box)\n",
        "\n",
        "# Random 64-bit input plaintext (as binary string)\n",
        "input_bits = \"1101010101101100110011110001111010100101001111100010110101110000\"\n",
        "\n",
        "# Initial Permutation (IP) Box\n",
        "initial_permutation_box = (\n",
        "    58, 50, 42, 34, 26, 18, 10, 2,\n",
        "    60, 52, 44, 36, 28, 20, 12, 4,\n",
        "    62, 54, 46, 38, 30, 22, 14, 6,\n",
        "    64, 56, 48, 40, 32, 24, 16, 8,\n",
        "    57, 49, 41, 33, 25, 17, 9, 1,\n",
        "    59, 51, 43, 35, 27, 19, 11, 3,\n",
        "    61, 53, 45, 37, 29, 21, 13, 5,\n",
        "    63, 55, 47, 39, 31, 23, 15, 7\n",
        ")\n",
        "\n",
        "# Final Permutation (FP) Box\n",
        "final_permutation_box = (\n",
        "    40, 8, 48, 16, 56, 24, 64, 32,\n",
        "    39, 7, 47, 15, 55, 23, 63, 31,\n",
        "    38, 6, 46, 14, 54, 22, 62, 30,\n",
        "    37, 5, 45, 13, 53, 21, 61, 29,\n",
        "    36, 4, 44, 12, 52, 20, 60, 28,\n",
        "    35, 3, 43, 11, 51, 19, 59, 27,\n",
        "    34, 2, 42, 10, 50, 18, 58, 26,\n",
        "    33, 1, 41, 9, 49, 17, 57, 25\n",
        ")\n",
        "\n",
        "# Applying Initial Permutation\n",
        "permuted_bits = permute(input_bits, initial_permutation_box)\n",
        "print(\"Permuted Bits after Initial Permutation:\", permuted_bits)\n",
        "\n",
        "# Applying Final Permutation\n",
        "encrypted_output = permute(permuted_bits, final_permutation_box)\n",
        "print(\"Encrypted Output after Final Permutation:\", encrypted_output)\n"
      ]
    },
    {
      "cell_type": "markdown",
      "source": [
        "#Expansion P-box"
      ],
      "metadata": {
        "id": "oihAxvOXlRSN"
      }
    },
    {
      "cell_type": "code",
      "source": [
        "import random as r\n",
        "\n",
        "expansion_Pbox = [32, 1, 2, 3, 4, 5, 4, 5,\n",
        "                  6, 7, 8, 9, 8, 9, 10, 11,\n",
        "                  12, 13, 12, 13, 14, 15, 16,\n",
        "                  17, 16, 17, 18, 19, 20, 21,\n",
        "                  20, 21, 22, 23, 24, 25, 24,\n",
        "                  25, 26, 27, 28, 29, 28, 29,\n",
        "                  30, 31, 32, 1]\n",
        "\n",
        "def setInputBlock():\n",
        "    input_block = \"\"\n",
        "    for _ in range(32):\n",
        "        input_block += str(r.randint(0,1))\n",
        "    return input_block\n",
        "\n",
        "def expandInput(inputText):\n",
        "    expandedText = \"\"\n",
        "    for index in expansion_Pbox:\n",
        "        expandedText += inputText[index-1]\n",
        "    return expandedText\n",
        "\n",
        "# inputText = setInputBlock()\n",
        "inputText = \"10100110010001100110011001100110\"\n",
        "expandedText = expandInput(inputText)\n",
        "\n",
        "print(\"Inital input: \", inputText)\n",
        "print(\"Output After Expansion: \", expandedText)"
      ],
      "metadata": {
        "colab": {
          "base_uri": "https://localhost:8080/"
        },
        "id": "VCRQbx3slQjE",
        "outputId": "995f3c4f-66c0-47df-b960-6f5ab7cf625d"
      },
      "execution_count": null,
      "outputs": [
        {
          "output_type": "stream",
          "name": "stdout",
          "text": [
            "Inital input:  10100110010001100110011001100110\n",
            "Output After Expansion:  010100001100001000001100001100001100001100001101\n"
          ]
        }
      ]
    },
    {
      "cell_type": "markdown",
      "source": [
        "#Sbox 1 in DES\n"
      ],
      "metadata": {
        "id": "fc-ni29uos5i"
      }
    },
    {
      "cell_type": "code",
      "source": [
        "def sbox1(input_bits):\n",
        "    sbox = (\n",
        "        # S-box 1\n",
        "        (14, 4, 13, 1, 2, 15, 11, 8, 3, 10, 6, 12, 5, 9, 0, 7),\n",
        "        (0, 15, 7, 4, 14, 2, 13, 1, 10, 6, 12, 11, 9, 5, 3, 8),\n",
        "        (4, 1, 14, 8, 13, 6, 2, 11, 15, 12, 9, 7, 3, 10, 5, 0),\n",
        "        (15, 12, 8, 2, 4, 9, 1, 7, 5, 11, 3, 14, 10, 0, 6, 13)\n",
        "    )\n",
        "\n",
        "    row = int(input_bits[0] * 2 + input_bits[5])\n",
        "    col = int(\"\".join(map(str, input_bits[1:5])), 2)\n",
        "\n",
        "    output_value = sbox[row][col]\n",
        "    output_bits = format(output_value, '04b')\n",
        "\n",
        "    return [int(bit) for bit in output_bits]\n",
        "\n",
        "# Example input: 6 bits\n",
        "input_bits = [1, 0, 0, 1, 1, 1]\n",
        "\n",
        "output_bits = sbox1(input_bits)\n",
        "print(\"Input bits:\", input_bits)\n",
        "print(\"Output bits:\", output_bits)"
      ],
      "metadata": {
        "colab": {
          "base_uri": "https://localhost:8080/"
        },
        "id": "Pe1ZzCFyo7Yq",
        "outputId": "48b5c7df-d03d-4765-a5f4-20c574e9a66c"
      },
      "execution_count": null,
      "outputs": [
        {
          "output_type": "stream",
          "name": "stdout",
          "text": [
            "Input bits: [1, 0, 0, 1, 1, 1]\n",
            "Output bits: [0, 0, 1, 0]\n"
          ]
        }
      ]
    },
    {
      "cell_type": "markdown",
      "source": [
        "#Key Generation Process In DES"
      ],
      "metadata": {
        "id": "c3sHJr8cpXYu"
      }
    },
    {
      "cell_type": "code",
      "source": [
        "def generate_round_keys(key):\n",
        "    # Permutation choice 1 (PC-1)\n",
        "    pc1 = [\n",
        "        57, 49, 41, 33, 25, 17, 9, 1,\n",
        "        58, 50, 42, 34, 26, 18, 10, 2,\n",
        "        59, 51, 43, 35, 27, 19, 11, 3,\n",
        "        60, 52, 44, 36, 63, 55, 47, 39,\n",
        "        31, 23, 15, 7, 62, 54, 46, 38,\n",
        "        30, 22, 14, 6, 61, 53, 45, 37,\n",
        "        29, 21, 13, 5, 28, 20, 12, 4\n",
        "    ]\n",
        "\n",
        "    # Left and right halves of the key\n",
        "    left_key = key[:28]\n",
        "    right_key = key[28:]\n",
        "\n",
        "    round_keys = []\n",
        "\n",
        "    for round_num in range(1, 17):\n",
        "        # Key schedule rotation amounts\n",
        "        rotations = 1 if round_num in {1, 2, 9, 16} else 2\n",
        "\n",
        "        # Perform key rotation\n",
        "        left_key = left_key[rotations:] + left_key[:rotations]\n",
        "        right_key = right_key[rotations:] + right_key[:rotations]\n",
        "\n",
        "        # Combine left and right halves\n",
        "        combined_key = left_key + right_key\n",
        "\n",
        "        # Permutation choice 2 (PC-2) to generate subkey\n",
        "        pc2 = [\n",
        "            14, 17, 11, 24, 1, 5, 3, 28,\n",
        "            15, 6, 21, 10, 23, 19, 12, 4,\n",
        "            26, 8, 16, 7, 27, 20, 13, 2,\n",
        "            41, 52, 31, 37, 47, 55, 30, 40,\n",
        "            51, 45, 33, 48, 44, 49, 39, 56,\n",
        "            34, 53, 46, 42, 50, 36, 29, 32\n",
        "        ]\n",
        "\n",
        "        subkey = [combined_key[i - 1] for i in pc2]\n",
        "        round_keys.append(subkey)\n",
        "\n",
        "    return round_keys\n",
        "\n",
        "# Example 64-bit key\n",
        "key = [\n",
        "    1,1,0,0,1,1,0,1,0,0,0,0,0,0,0,0,1,1,0,0,1,1,0,0,1,1,1,1,1,1,1,1,1,1,1,1,0,0,0,1,1,0,1,0,1,0,1,0,1,1,1,1,0,0,0,0,1,0,1,0,1,0,1,0\n",
        "]\n",
        "\n",
        "# Generate round keys\n",
        "round_keys = generate_round_keys(key)\n",
        "\n",
        "# Print the generated round keys\n",
        "for i, subkey in enumerate(round_keys):\n",
        "    print(f\"Round {i+1} Subkey:\", subkey)"
      ],
      "metadata": {
        "colab": {
          "base_uri": "https://localhost:8080/"
        },
        "id": "OTsl-q9Loscy",
        "outputId": "1b450e27-657c-4ff7-90c0-edc842db82b5"
      },
      "execution_count": null,
      "outputs": [
        {
          "output_type": "stream",
          "name": "stdout",
          "text": [
            "Round 1 Subkey: [0, 1, 0, 1, 1, 1, 0, 1, 0, 0, 1, 0, 0, 0, 0, 1, 1, 0, 1, 1, 1, 1, 0, 0, 0, 0, 1, 0, 0, 0, 1, 1, 1, 0, 1, 1, 1, 1, 1, 1, 1, 0, 1, 1, 1, 0, 1, 1]\n",
            "Round 2 Subkey: [0, 0, 0, 1, 0, 0, 1, 1, 1, 1, 0, 0, 1, 1, 0, 1, 1, 0, 1, 0, 1, 1, 0, 0, 1, 0, 1, 0, 1, 1, 1, 0, 0, 1, 1, 1, 0, 1, 1, 0, 1, 0, 0, 0, 1, 0, 1, 1]\n",
            "Round 3 Subkey: [1, 1, 0, 1, 1, 0, 0, 0, 0, 0, 1, 0, 1, 0, 0, 1, 1, 0, 0, 0, 0, 0, 1, 1, 1, 0, 1, 1, 1, 1, 1, 0, 0, 1, 0, 1, 0, 0, 1, 0, 0, 1, 1, 0, 0, 1, 1, 1]\n",
            "Round 4 Subkey: [0, 0, 1, 1, 0, 0, 0, 1, 1, 0, 1, 0, 1, 1, 1, 0, 0, 0, 1, 0, 1, 1, 0, 1, 1, 0, 0, 1, 0, 1, 1, 0, 1, 1, 0, 0, 1, 0, 1, 0, 1, 1, 1, 0, 0, 0, 1, 0]\n",
            "Round 5 Subkey: [1, 1, 0, 0, 0, 0, 0, 1, 0, 0, 1, 1, 0, 1, 0, 0, 1, 0, 0, 0, 0, 1, 1, 0, 1, 0, 0, 1, 0, 1, 0, 0, 1, 0, 1, 0, 1, 1, 1, 0, 0, 1, 0, 1, 0, 0, 0, 1]\n",
            "Round 6 Subkey: [0, 1, 1, 1, 0, 0, 0, 0, 1, 0, 0, 0, 1, 1, 1, 0, 1, 1, 1, 1, 0, 1, 0, 0, 1, 0, 1, 1, 1, 1, 1, 1, 1, 0, 1, 0, 0, 1, 1, 1, 0, 1, 0, 1, 0, 0, 0, 0]\n",
            "Round 7 Subkey: [1, 1, 0, 1, 0, 1, 0, 0, 1, 1, 1, 1, 0, 0, 0, 0, 0, 0, 1, 0, 0, 0, 1, 0, 0, 0, 1, 1, 1, 1, 0, 1, 1, 1, 1, 0, 0, 1, 1, 1, 0, 1, 0, 0, 0, 0, 1, 0]\n",
            "Round 8 Subkey: [1, 0, 1, 0, 0, 0, 1, 0, 1, 0, 0, 0, 0, 1, 1, 1, 0, 1, 1, 1, 0, 1, 1, 0, 0, 1, 1, 1, 1, 1, 0, 0, 1, 1, 1, 0, 0, 1, 0, 1, 0, 1, 0, 0, 0, 1, 1, 0]\n",
            "Round 9 Subkey: [1, 0, 1, 0, 0, 0, 1, 0, 1, 1, 1, 1, 0, 1, 1, 0, 0, 0, 0, 1, 0, 0, 1, 1, 0, 1, 0, 1, 0, 1, 1, 0, 1, 0, 0, 1, 1, 0, 0, 1, 1, 1, 1, 1, 1, 1, 0, 1]\n",
            "Round 10 Subkey: [0, 1, 1, 0, 1, 1, 0, 1, 0, 0, 0, 1, 0, 1, 1, 1, 0, 1, 1, 0, 0, 0, 1, 0, 0, 1, 0, 0, 0, 1, 1, 1, 1, 0, 1, 1, 1, 1, 0, 0, 1, 1, 1, 1, 1, 0, 0, 1]\n",
            "Round 11 Subkey: [1, 1, 1, 0, 0, 0, 1, 0, 1, 1, 0, 1, 0, 0, 0, 0, 1, 1, 0, 1, 1, 0, 0, 1, 0, 1, 1, 0, 1, 0, 1, 1, 1, 0, 1, 1, 1, 1, 0, 0, 0, 1, 1, 1, 1, 0, 0, 1]\n",
            "Round 12 Subkey: [0, 0, 0, 1, 1, 1, 0, 1, 1, 1, 0, 0, 0, 0, 1, 1, 0, 1, 0, 1, 0, 0, 1, 0, 0, 0, 1, 0, 1, 1, 1, 1, 1, 1, 0, 1, 1, 1, 0, 1, 0, 0, 1, 1, 1, 1, 1, 0]\n",
            "Round 13 Subkey: [0, 0, 1, 0, 0, 1, 1, 0, 0, 1, 0, 1, 1, 0, 0, 1, 1, 0, 0, 1, 1, 0, 1, 1, 0, 0, 0, 0, 1, 0, 0, 1, 0, 1, 0, 1, 1, 1, 0, 1, 1, 1, 1, 1, 0, 1, 1, 0]\n",
            "Round 14 Subkey: [0, 0, 1, 1, 1, 1, 1, 1, 0, 0, 1, 0, 0, 0, 0, 1, 0, 1, 0, 0, 0, 1, 0, 1, 1, 1, 0, 0, 1, 0, 0, 1, 1, 1, 0, 0, 1, 0, 0, 1, 1, 0, 1, 1, 0, 1, 0, 1]\n",
            "Round 15 Subkey: [0, 0, 0, 0, 1, 0, 1, 1, 0, 1, 0, 0, 1, 1, 0, 0, 1, 0, 0, 1, 1, 0, 0, 1, 1, 1, 0, 0, 0, 0, 1, 1, 0, 1, 0, 0, 1, 1, 1, 1, 1, 0, 0, 1, 1, 1, 0, 1]\n",
            "Round 16 Subkey: [0, 1, 0, 0, 1, 1, 0, 1, 0, 1, 1, 0, 0, 0, 0, 0, 1, 1, 0, 0, 1, 0, 0, 1, 1, 0, 1, 1, 0, 1, 0, 1, 1, 0, 1, 1, 1, 1, 1, 0, 0, 1, 0, 1, 0, 0, 1, 0]\n"
          ]
        }
      ]
    }
  ]
}